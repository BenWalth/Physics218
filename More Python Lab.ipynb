{
 "cells": [
  {
   "cell_type": "code",
   "execution_count": 71,
   "metadata": {},
   "outputs": [],
   "source": [
    "import numpy as np"
   ]
  },
  {
   "cell_type": "code",
   "execution_count": 72,
   "metadata": {},
   "outputs": [],
   "source": [
    "def thermex(deltaL,L,initialtemp,finaltemp):\n",
    "    alpha = deltaL/(L*(finaltemp-initialtemp))\n",
    "    return alpha"
   ]
  },
  {
   "cell_type": "code",
   "execution_count": 73,
   "metadata": {},
   "outputs": [
    {
     "name": "stdout",
     "output_type": "stream",
     "text": [
      "Coefficient of Linear Expansion = 1.7228309558266145e-05 /degree C\n"
     ]
    }
   ],
   "source": [
    "deltaL = 0.00125\n",
    "L = 1.05\n",
    "initialtemp = 23.4\n",
    "finaltemp = 92.5\n",
    "\n",
    "alpha_value = thermex(deltaL,L,initialtemp,finaltemp)\n",
    "print (\"Coefficient of Linear Expansion =\", alpha_value, \"/degree C\" )"
   ]
  },
  {
   "cell_type": "code",
   "execution_count": 74,
   "metadata": {},
   "outputs": [],
   "source": [
    "def rule3(dA,db):\n",
    "    dQ_add=np.sqrt(dA**2+dB**2)\n",
    "    return dQ_add\n"
   ]
  },
  {
   "cell_type": "code",
   "execution_count": 75,
   "metadata": {},
   "outputs": [
    {
     "name": "stdout",
     "output_type": "stream",
     "text": [
      "Delta T Error= 0.31622776601683794 degree C\n"
     ]
    }
   ],
   "source": [
    "dA = 0.3\n",
    "dB = 0.1\n",
    "\n",
    "dQ_add_value = rule3(dA,dB)\n",
    "print (\"Delta T Error=\", dQ_add_value, \"degree C\")"
   ]
  },
  {
   "cell_type": "code",
   "execution_count": 76,
   "metadata": {},
   "outputs": [],
   "source": [
    "def rule4(m,dC,C,n,dD,D,o,dE,E,Q_mult):\n",
    "    dQ_mult=(np.sqrt((m*(dC/C))**2+(n*(dD/D))**2+(o*(dE/E))**2))*Q_mult\n",
    "    return dQ_mult\n",
    "    "
   ]
  },
  {
   "cell_type": "code",
   "execution_count": 78,
   "metadata": {},
   "outputs": [
    {
     "name": "stdout",
     "output_type": "stream",
     "text": [
      "Error in alpha= 1.596296282604527e-07 /degree C\n"
     ]
    }
   ],
   "source": [
    "m = 1\n",
    "dC = 0.001\n",
    "C = 1.05\n",
    "n = 1\n",
    "dD = dQ_add_value\n",
    "D = finaltemp-initialtemp\n",
    "o = 1\n",
    "dE = 0.00001\n",
    "E = 0.00125\n",
    "Q_mult = alpha_value\n",
    "\n",
    "\n",
    "dQ_mult_value = rule4(m,dC,C,n,dD,D,o,dE,E,Q_mult)\n",
    "print (\"Error in alpha=\", dQ_mult_value, \"/degree C\")\n"
   ]
  },
  {
   "cell_type": "markdown",
   "metadata": {},
   "source": [
    "Alpha +/- dAlpha = 1.7228309558266145e-05 +/- 1.596296282604527e-07 /degree C"
   ]
  },
  {
   "cell_type": "code",
   "execution_count": null,
   "metadata": {},
   "outputs": [],
   "source": []
  }
 ],
 "metadata": {
  "kernelspec": {
   "display_name": "Python 3",
   "language": "python",
   "name": "python3"
  },
  "language_info": {
   "codemirror_mode": {
    "name": "ipython",
    "version": 3
   },
   "file_extension": ".py",
   "mimetype": "text/x-python",
   "name": "python",
   "nbconvert_exporter": "python",
   "pygments_lexer": "ipython3",
   "version": "3.7.3"
  }
 },
 "nbformat": 4,
 "nbformat_minor": 2
}
